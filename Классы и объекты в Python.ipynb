{
 "cells": [
  {
   "cell_type": "code",
   "execution_count": 3,
   "id": "22508de5",
   "metadata": {},
   "outputs": [
    {
     "data": {
      "text/plain": [
       "True"
      ]
     },
     "execution_count": 3,
     "metadata": {},
     "output_type": "execute_result"
    }
   ],
   "source": [
    "#Представим, что нам нужно создать множество однотипных объектов. \n",
    "#Например, у нас есть пользователи нашего сервиса PetFriends (в прототипе социальной сети для проекта «Дом Питомца»). \n",
    "#Мы хотим хранить данные о них, плюс дополнительно хранить предлагаемые товары для питомцев, \n",
    "#а кроме них — соответствующие функции, которые рассчитывают, например, доступность.\n",
    "user_peter = {\n",
    "    \"name\": \"Peter\",\n",
    "    \"email\": \"peterrobertson@mail.com\",\n",
    "    \"created_at\": \"2019-05-05\",\n",
    "    \"is_email_verified\": True,\n",
    "    \"purchases\": [\"Egg\", \"Spam\", \"Hat\", \"Knife\", \"Shield\", \"Book of Knight secrets\"],\n",
    "}\n",
    "\n",
    "user_julia = {\n",
    "    \"name\": \"Julia Donaldson\",\n",
    "    \"email\": \"juliadonaldson@mail.com\",\n",
    "    \"created_at\": \"2019-06-13\",\n",
    "    \"is_email_verified\": True,\n",
    "    \"purchases\": [\"Egg\", \"Spam\", \"Magic Brush\"],\n",
    "}\n",
    "\n",
    "product_eggs = {\n",
    "    \"name\": \"Egg\",\n",
    "    \"category\": \"food\",\n",
    "    \"is_available\": False,\n",
    "    \"quantity_in_stock\": 10,\n",
    "    \"vendor\": \"Dark Knight LTD\",\n",
    "    \"manager\": \"William The Conqueror\",\n",
    "}\n",
    "\n",
    "\n",
    "def is_product_available(product):\n",
    "    return True if product[\"quantity_in_stock\"] > 0 else False\n",
    "is_product_available(product_eggs)"
   ]
  },
  {
   "cell_type": "code",
   "execution_count": 4,
   "id": "f29d863e",
   "metadata": {},
   "outputs": [
    {
     "name": "stdout",
     "output_type": "stream",
     "text": [
      "Peter Robertson\n",
      "Julia Donaldson\n"
     ]
    }
   ],
   "source": [
    "#Мы помним, что нам нужна абстракция «пользователь». Давайте создадим такой класс.\n",
    "##Для создания класса используем ключевое слово class:\n",
    "class User:\n",
    "    pass  # этот класс ничего не делает\n",
    "peter = User()\n",
    "peter.name = \"Peter Robertson\"\n",
    "\n",
    "julia = User()\n",
    "julia.name = \"Julia Donaldson\"\n",
    "\n",
    "print(peter.name)\n",
    "print(julia.name)"
   ]
  },
  {
   "cell_type": "code",
   "execution_count": 7,
   "id": "138691cd",
   "metadata": {},
   "outputs": [
    {
     "name": "stdout",
     "output_type": "stream",
     "text": [
      "Peter Robertson\n",
      "juliadonaldson@mail.com\n"
     ]
    }
   ],
   "source": [
    "#Магический метод __init__\n",
    "class User:\n",
    "    def __init__(self, name, email):\n",
    "        self.name = name\n",
    "        self.email = email\n",
    "\n",
    "#peter = User(name=\"Peter Robertson\", email=\"peterrobertson@mail.com\")\n",
    "#julia = User(name=\"Julia Donaldson\", email=\"juliadonaldson@mail.com\")\n",
    "peter = User(\"Peter Robertson\", \"peterrobertson@mail.com\")\n",
    "julia = User(\"Julia Donaldson\", \"juliadonaldson@mail.com\")\n",
    "\n",
    "print(peter.name)\n",
    "print(julia.email)"
   ]
  },
  {
   "cell_type": "code",
   "execution_count": 8,
   "id": "a68ba19f",
   "metadata": {},
   "outputs": [
    {
     "name": "stdout",
     "output_type": "stream",
     "text": [
      "True\n"
     ]
    }
   ],
   "source": [
    "#Метод — это всего лишь функция, реализованная внутри класса, и первым аргументом принимающая self:\n",
    "class Product:\n",
    "    def __init__(self, name, category, quantity_in_stock):\n",
    "        self.name = name\n",
    "        self.category = category\n",
    "        self.quantity_in_stock = quantity_in_stock\n",
    "\n",
    "    def is_available(self):\n",
    "        return True if self.quantity_in_stock > 0 else False\n",
    "    \n",
    "eggs = Product(\"eggs\", \"food\", 5)\n",
    "print(eggs.is_available())"
   ]
  },
  {
   "cell_type": "code",
   "execution_count": 11,
   "id": "c05c5bd0",
   "metadata": {},
   "outputs": [
    {
     "name": "stdout",
     "output_type": "stream",
     "text": [
      "1554583508000\n",
      "1555296337000\n",
      "1549461608000\n",
      "\n",
      "1554583508000\n",
      "1555296337000\n",
      "1549461608000\n"
     ]
    }
   ],
   "source": [
    "#Пусть мы хотим обрабатывать некоторые события из уже известных нам логов событий. Создадим класс с конструктором:\n",
    "class Event:\n",
    "    def __init__(self, timestamp, event_type, session_id):\n",
    "        self.timestamp = timestamp\n",
    "        self.type = event_type\n",
    "        self.session_id = session_id\n",
    "\n",
    "events = [\n",
    "    {\n",
    "     \"timestamp\": 1554583508000,\n",
    "     \"type\": \"itemViewEvent\",\n",
    "     \"session_id\": \"0:NynteeXG:MYlskrqZbcmXNSFEJaZIsNVGeDLLpmct\",\n",
    "    },\n",
    "    {\n",
    "     \"timestamp\": 1555296337000,\n",
    "     \"type\": \"itemViewEvent\",\n",
    "     \"session_id\": \"0:NynteeXG:MYlskrqZbcmXNSFEJaZIsNVGeDLLpmct\",\n",
    "    },\n",
    "    {\n",
    "     \"timestamp\": 1549461608000,\n",
    "     \"type\": \"itemBuyEvent\",\n",
    "     \"session_id\": \"0:NynteeXG:MYlskrqZbcmXNSFEJaZIsNVGeDLLpmct\",\n",
    "    },\n",
    "]\n",
    "\n",
    "for event in events:\n",
    "    event_obj = Event(timestamp=event.get(\"timestamp\"),\n",
    "                      event_type=event.get(\"type\"),\n",
    "                      session_id=event.get(\"session_id\"))\n",
    "    print(event_obj.timestamp)\n",
    "print()\n",
    "#Вместо такого явного разбора словаря в цикле мы могли бы задать нашему классу метод, \n",
    "#который позволяет инициализировать наш объект напрямую.\n",
    "#Для этого давайте поправим объявление нашего класса и зададим для каждой переменной её значение по умолчанию, \n",
    "#чтобы мы могли инициализировать объект без заполнения. \n",
    "#Это делается с помощью указания значений по умолчанию сразу после названия аргумента:\n",
    "class Event:\n",
    "    def __init__(self, timestamp=0, event_type=\"\", session_id=\"\"):\n",
    "        self.timestamp = timestamp\n",
    "        self.type = event_type\n",
    "        self.session_id = session_id\n",
    "    def init_from_dict(self, event_dict):\n",
    "        self.timestamp = event_dict.get(\"timestamp\")\n",
    "        self.type = event_dict.get(\"type\")\n",
    "        self.session_id = event_dict.get(\"session_id\")\n",
    "        \n",
    "for event in events:\n",
    "    event_obj = Event()\n",
    "    event_obj.init_from_dict(event)\n",
    "    print(event_obj.timestamp)\n"
   ]
  },
  {
   "cell_type": "code",
   "execution_count": 25,
   "id": "7a9d2f8b",
   "metadata": {},
   "outputs": [
    {
     "name": "stdout",
     "output_type": "stream",
     "text": [
      "4\n"
     ]
    }
   ],
   "source": [
    "# Инкапсуляция. Контролируем обращение к полям класса. Мы добавили специальные методы: геттеры и сеттеры.\n",
    "class Human:\n",
    "    age = None\n",
    " \n",
    "    def __init__(self, age=4):\n",
    "        self.age = age\n",
    " \n",
    "    # добавляем геттер - специальный метод для получения поля\n",
    "    def get_age(self):\n",
    "        return self.age\n",
    " \n",
    "    # добавляем сеттер - специальный метод для установки нового значения \n",
    "    def set_age(self, age):\n",
    "        if age > 0 and isinstance(age, int): # проверяем условия, что человеку должно быть больше 0 лет и его возраст - целое число\n",
    "            self.age = age\n",
    " \n",
    " \n",
    "h = Human()\n",
    "h.set_age(-45)\n",
    "print(h.get_age())"
   ]
  },
  {
   "cell_type": "code",
   "execution_count": 27,
   "id": "7db33b5c",
   "metadata": {},
   "outputs": [
    {
     "name": "stdout",
     "output_type": "stream",
     "text": [
      "100000\n",
      "True\n"
     ]
    }
   ],
   "source": [
    "# Наследование классов.\n",
    "import datetime\n",
    "\n",
    "\n",
    "class Product:\n",
    "    max_quantity = 100000\n",
    "\n",
    "    def __init__(self, name, category, quantity_in_stock):\n",
    "        self.name = name\n",
    "        self.category = category\n",
    "        self.quantity_in_stock = quantity_in_stock\n",
    "\n",
    "    def is_available(self):\n",
    "        return True if self.quantity_in_stock > 0 else False\n",
    "\n",
    "\n",
    "class Food(Product):\n",
    "    is_critical = True\n",
    "    needs_to_be_refreshed = True\n",
    "    refresh_frequency = datetime.timedelta(days=1)\n",
    "\n",
    "\n",
    "eggs = Food(name=\"eggs\", category=\"food\", quantity_in_stock=5)\n",
    "print(eggs.max_quantity)\n",
    "print(eggs.is_available())"
   ]
  },
  {
   "cell_type": "code",
   "execution_count": null,
   "id": "623dfedd",
   "metadata": {},
   "outputs": [],
   "source": [
    "if __name__ == \"__main__\":.\n",
    "\n",
    "Данная конструкция позволяет запускать код внутри блока if в зависимости от запущенного файла. \n",
    "В переменной __name__ мы храним путь, откуда запущен файл.\n",
    "Если мы запустили файл из консоли: python *имя файла*, то в переменной __name__ будет строка \"__main__\". \n",
    "Если мы импортировали файл из другого файла, в переменной __name__ будет просто название самого файла.\n",
    "Таким образом, блок кода, который идёт после условия if __name__ == \"__main__\":, \n",
    "будет выполняться, если мы запустили файл из консоли, и не будет, если мы экспортируем этот файл."
   ]
  },
  {
   "cell_type": "code",
   "execution_count": 28,
   "id": "9ba41b92",
   "metadata": {},
   "outputs": [
    {
     "name": "stdout",
     "output_type": "stream",
     "text": [
      "This event means someone has browsed an item.\n",
      "itemViewEvent\n"
     ]
    }
   ],
   "source": [
    "#Важно, если мы назовём атрибут или метод так же, как он называется в родительском классе, он будет переопределён. \n",
    "#Рассмотрим на примере:\n",
    "class Event:\n",
    "    def __init__(self, timestamp=0, event_type=\"\", session_id=\"\"):\n",
    "        self.timestamp = timestamp\n",
    "        self.type = event_type\n",
    "        self.session_id = session_id\n",
    "\n",
    "    def init_from_dict(self, event_dict):\n",
    "        self.timestamp = event_dict.get(\"timestamp\")\n",
    "        self.type = event_dict.get(\"type\")\n",
    "        self.session_id = event_dict.get(\"session_id\")\n",
    "\n",
    "    def show_description(self):\n",
    "        print(\"This is generic event.\")\n",
    "\n",
    "\n",
    "class ItemViewEvent(Event):\n",
    "    type = \"itemViewEvent\"\n",
    "\n",
    "    def __init__(self, timestamp=0, session_id=\"\", number_of_views=0):\n",
    "        self.timestamp = timestamp\n",
    "        self.session_id = session_id\n",
    "        self.number_of_views = number_of_views\n",
    "\n",
    "    def show_description(self):\n",
    "        print(\"This event means someone has browsed an item.\")\n",
    "\n",
    "\n",
    "if __name__ == \"__main__\":\n",
    "    test_view_event = ItemViewEvent(timestamp=1549461608000, session_id=\"0:NynteeXG:MYlskrqZbcmXNSFEJaZIsNVGeDLLpmct\", number_of_views=6)\n",
    "    test_view_event.show_description()\n",
    "    print(test_view_event.type)"
   ]
  },
  {
   "cell_type": "code",
   "execution_count": 30,
   "id": "5f122c11",
   "metadata": {},
   "outputs": [
    {
     "name": "stdout",
     "output_type": "stream",
     "text": [
      "True\n",
      "True\n"
     ]
    }
   ],
   "source": [
    "#Проверка типа объекта\n",
    "print(isinstance(\"foo\", str))\n",
    "print(isinstance(test_view_event, ItemViewEvent))"
   ]
  },
  {
   "cell_type": "code",
   "execution_count": 32,
   "id": "9afaf00c",
   "metadata": {},
   "outputs": [
    {
     "name": "stdout",
     "output_type": "stream",
     "text": [
      "kitchen\n",
      "room1\n",
      "room2 for flat\n",
      "\n",
      "True\n",
      "True\n",
      "True\n"
     ]
    }
   ],
   "source": [
    "#Рассмотрим множественное наследование на примере отдельных комнат и квартиры.\n",
    "#Создадим файл flat.py с родительскими классами для двух комнат и кухни:\n",
    "class Room1:\n",
    "    def get_room(self):\n",
    "        print('room1')\n",
    "\n",
    "class Room2:\n",
    "    def get_room(self):\n",
    "        print('room2')\n",
    " \n",
    "    def get_room2(self):\n",
    "        print('room2 for flat')\n",
    "\n",
    "class Kitchen:\n",
    "    def get_kitchen(self):\n",
    "        print('kitchen')\n",
    "\n",
    "class Flat(Kitchen, Room1, Room2):\n",
    "    ...\n",
    "\n",
    "f = Flat()\n",
    "f.get_kitchen()\n",
    "f.get_room()\n",
    "f.get_room2()\n",
    "print()\n",
    "print(isinstance(f, Flat))\n",
    "print(isinstance(f, Room1))\n",
    "print(isinstance(f, Room2))"
   ]
  },
  {
   "cell_type": "code",
   "execution_count": null,
   "id": "80929ee5",
   "metadata": {},
   "outputs": [],
   "source": []
  }
 ],
 "metadata": {
  "kernelspec": {
   "display_name": "Python 3 (ipykernel)",
   "language": "python",
   "name": "python3"
  },
  "language_info": {
   "codemirror_mode": {
    "name": "ipython",
    "version": 3
   },
   "file_extension": ".py",
   "mimetype": "text/x-python",
   "name": "python",
   "nbconvert_exporter": "python",
   "pygments_lexer": "ipython3",
   "version": "3.8.10"
  }
 },
 "nbformat": 4,
 "nbformat_minor": 5
}
